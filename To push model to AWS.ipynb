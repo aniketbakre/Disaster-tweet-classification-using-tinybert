{
 "cells": [
  {
   "cell_type": "markdown",
   "metadata": {},
   "source": [
    "# Creating bucket to push the model to S3"
   ]
  },
  {
   "cell_type": "code",
   "execution_count": 4,
   "metadata": {},
   "outputs": [
    {
     "name": "stdout",
     "output_type": "stream",
     "text": [
      "Bucket \"mlops-tinybert-disaster-tweets\" is created in \"ap-south-1\" region.\n"
     ]
    }
   ],
   "source": [
    "import boto3\n",
    "\n",
    "s3 = boto3.client('s3')\n",
    "bucket_name = 'mlops-tinybert-disaster-tweets'\n",
    "region = 'ap-south-1'\n",
    "\n",
    "def create_bucket(bucket_name, region):\n",
    "    location = {'LocationConstraint': region}\n",
    "    response = s3.list_buckets()\n",
    "    buckets = [bucket['Name'] for bucket in response['Buckets']]\n",
    "\n",
    "    if bucket_name not in buckets:\n",
    "        s3.create_bucket(Bucket=bucket_name, CreateBucketConfiguration=location)\n",
    "        print(f'Bucket \"{bucket_name}\" is created in \"{region}\" region.')\n",
    "    else:\n",
    "        print(f'Bucket \"{bucket_name}\" already exists.')\n",
    "\n",
    "create_bucket(bucket_name, region)"
   ]
  },
  {
   "cell_type": "markdown",
   "metadata": {},
   "source": [
    "# Push model to S3"
   ]
  },
  {
   "cell_type": "code",
   "execution_count": 6,
   "metadata": {},
   "outputs": [],
   "source": [
    "import os\n",
    "import boto3\n",
    "\n",
    "s3 = boto3.client('s3')\n",
    "\n",
    "folder_path = r'C:\\Users\\Aniket\\Desktop\\MLOPS_UDEMY\\Projects\\Disaster Tweet Classification using TinyBert'\n",
    "bucket_name = 'mlops-tinybert-disaster-tweets'\n"
   ]
  },
  {
   "cell_type": "code",
   "execution_count": 7,
   "metadata": {},
   "outputs": [],
   "source": [
    "def upload_directory_to_s3(folder_path, bucket_name, s3_prefix=\"\"):\n",
    "    # Walkeing through the directory\n",
    "    for root, dirs, files in os.walk(folder_path):\n",
    "        for file in files:\n",
    "            # Constructing full local path\n",
    "            local_path = os.path.join(root, file)\n",
    "\n",
    "            # Construct the relative path and then the full S3 key\n",
    "            realtive_path = os.path.relpath(local_path, folder_path)\n",
    "            s3_key = os.path.join(s3_prefix, realtive_path).replace(\"\\\\\", \"/\")  # Replace Windows backslashes with S3-compatible slashes\n",
    "\n",
    "\n",
    "            try:\n",
    "                # Uploading the file to s3\n",
    "                s3.upload_file(local_path, bucket_name, s3_key)\n",
    "                print(f\"Uploaded {local_path} to s3://{bucket_name}/{s3_key}\")\n",
    "\n",
    "            except Exception as e:\n",
    "                print(f'Failed to upload {local_path}: {e}')"
   ]
  },
  {
   "cell_type": "code",
   "execution_count": 8,
   "metadata": {},
   "outputs": [
    {
     "name": "stdout",
     "output_type": "stream",
     "text": [
      "Uploaded C:\\Users\\Aniket\\Desktop\\MLOPS_UDEMY\\Projects\\Disaster Tweet Classification using TinyBert\\config.json to s3://mlops-tinybert-disaster-tweets/config.json\n",
      "Uploaded C:\\Users\\Aniket\\Desktop\\MLOPS_UDEMY\\Projects\\Disaster Tweet Classification using TinyBert\\disaster-tweet-classification-using-tinybert.ipynb to s3://mlops-tinybert-disaster-tweets/disaster-tweet-classification-using-tinybert.ipynb\n",
      "Uploaded C:\\Users\\Aniket\\Desktop\\MLOPS_UDEMY\\Projects\\Disaster Tweet Classification using TinyBert\\model.safetensors to s3://mlops-tinybert-disaster-tweets/model.safetensors\n",
      "Uploaded C:\\Users\\Aniket\\Desktop\\MLOPS_UDEMY\\Projects\\Disaster Tweet Classification using TinyBert\\special_tokens_map.json to s3://mlops-tinybert-disaster-tweets/special_tokens_map.json\n",
      "Uploaded C:\\Users\\Aniket\\Desktop\\MLOPS_UDEMY\\Projects\\Disaster Tweet Classification using TinyBert\\To push model to AWS.ipynb to s3://mlops-tinybert-disaster-tweets/To push model to AWS.ipynb\n",
      "Uploaded C:\\Users\\Aniket\\Desktop\\MLOPS_UDEMY\\Projects\\Disaster Tweet Classification using TinyBert\\tokenizer.json to s3://mlops-tinybert-disaster-tweets/tokenizer.json\n",
      "Uploaded C:\\Users\\Aniket\\Desktop\\MLOPS_UDEMY\\Projects\\Disaster Tweet Classification using TinyBert\\tokenizer_config.json to s3://mlops-tinybert-disaster-tweets/tokenizer_config.json\n",
      "Uploaded C:\\Users\\Aniket\\Desktop\\MLOPS_UDEMY\\Projects\\Disaster Tweet Classification using TinyBert\\training_args.bin to s3://mlops-tinybert-disaster-tweets/training_args.bin\n",
      "Uploaded C:\\Users\\Aniket\\Desktop\\MLOPS_UDEMY\\Projects\\Disaster Tweet Classification using TinyBert\\vocab.txt to s3://mlops-tinybert-disaster-tweets/vocab.txt\n",
      "Uploaded C:\\Users\\Aniket\\Desktop\\MLOPS_UDEMY\\Projects\\Disaster Tweet Classification using TinyBert\\zipped_directory.zip to s3://mlops-tinybert-disaster-tweets/zipped_directory.zip\n"
     ]
    }
   ],
   "source": [
    "upload_directory_to_s3(folder_path, bucket_name, s3_prefix=\"\")"
   ]
  },
  {
   "cell_type": "markdown",
   "metadata": {},
   "source": [
    "## Delete all files from S3"
   ]
  },
  {
   "cell_type": "code",
   "execution_count": 9,
   "metadata": {},
   "outputs": [],
   "source": [
    "def empty_bucket(bucket_name):\n",
    "    response = s3.list_objects_v2(Bucket=bucket_name)\n",
    "\n",
    "    if 'Contents' in response:\n",
    "        for obj in response['Contents']:\n",
    "            print(f\"Deleting the file '{obj['Key']}'...\")\n",
    "            s3.delete_object(Bucket=bucket_name, Key=obj['Key'])\n",
    "            print(f\"The file '{obj['Key']}' has been deleted.\")\n",
    "    \n",
    "    print('The bucket is now empty and ready to be deleted from AWS S3.')"
   ]
  },
  {
   "cell_type": "code",
   "execution_count": 10,
   "metadata": {},
   "outputs": [
    {
     "name": "stdout",
     "output_type": "stream",
     "text": [
      "Deleting the file 'To push model to AWS.ipynb'...\n",
      "The file 'To push model to AWS.ipynb' has been deleted.\n",
      "Deleting the file 'config.json'...\n",
      "The file 'config.json' has been deleted.\n",
      "Deleting the file 'disaster-tweet-classification-using-tinybert.ipynb'...\n",
      "The file 'disaster-tweet-classification-using-tinybert.ipynb' has been deleted.\n",
      "Deleting the file 'model.safetensors'...\n",
      "The file 'model.safetensors' has been deleted.\n",
      "Deleting the file 'special_tokens_map.json'...\n",
      "The file 'special_tokens_map.json' has been deleted.\n",
      "Deleting the file 'tokenizer.json'...\n",
      "The file 'tokenizer.json' has been deleted.\n",
      "Deleting the file 'tokenizer_config.json'...\n",
      "The file 'tokenizer_config.json' has been deleted.\n",
      "Deleting the file 'training_args.bin'...\n",
      "The file 'training_args.bin' has been deleted.\n",
      "Deleting the file 'vocab.txt'...\n",
      "The file 'vocab.txt' has been deleted.\n",
      "Deleting the file 'zipped_directory.zip'...\n",
      "The file 'zipped_directory.zip' has been deleted.\n",
      "The bucket is now empty and ready to be deleted from AWS S3.\n"
     ]
    }
   ],
   "source": [
    "empty_bucket(bucket_name)"
   ]
  },
  {
   "cell_type": "markdown",
   "metadata": {},
   "source": [
    "## Delete the bucket"
   ]
  },
  {
   "cell_type": "code",
   "execution_count": 11,
   "metadata": {},
   "outputs": [],
   "source": [
    "# first we need to empty files from the bucket and after that only we can delete the bucket\n",
    "def delete_bucket(bucket_name):\n",
    "    try:\n",
    "        s3.delete_bucket(Bucket = bucket_name)\n",
    "        print(f'Successfully deleted bucket \"{bucket_name}\"')\n",
    "    except Exception as e:\n",
    "        print(f'Failed to delete bucket \"{bucket_name}\" \\nbecause of the error:\"{e}\"')\n"
   ]
  },
  {
   "cell_type": "code",
   "execution_count": 12,
   "metadata": {},
   "outputs": [
    {
     "name": "stdout",
     "output_type": "stream",
     "text": [
      "Successfully deleted bucket \"mlops-tinybert-disaster-tweets\"\n"
     ]
    }
   ],
   "source": [
    "delete_bucket(bucket_name)"
   ]
  }
 ],
 "metadata": {
  "kernelspec": {
   "display_name": ".venv",
   "language": "python",
   "name": ".venv"
  },
  "language_info": {
   "codemirror_mode": {
    "name": "ipython",
    "version": 3
   },
   "file_extension": ".py",
   "mimetype": "text/x-python",
   "name": "python",
   "nbconvert_exporter": "python",
   "pygments_lexer": "ipython3",
   "version": "3.12.3"
  }
 },
 "nbformat": 4,
 "nbformat_minor": 2
}
